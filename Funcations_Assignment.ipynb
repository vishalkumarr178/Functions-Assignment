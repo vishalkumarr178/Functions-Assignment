{
  "nbformat": 4,
  "nbformat_minor": 0,
  "metadata": {
    "colab": {
      "provenance": []
    },
    "kernelspec": {
      "name": "python3",
      "display_name": "Python 3"
    },
    "language_info": {
      "name": "python"
    }
  },
  "cells": [
    {
      "cell_type": "code",
      "execution_count": null,
      "metadata": {
        "id": "q9V-CMalNDmg"
      },
      "outputs": [],
      "source": []
    },
    {
      "cell_type": "markdown",
      "source": [
        "Theoretical Questions:\n",
        "#1. What is the difference between a function and a method in Python?\n",
        "#Ans. The difference between the function and a method is:\n",
        "Function is a block of code that performs a specific task and can be called independently.Functions can be defined anywhere in the program, outside of classes.On the other hand,A method is a function that is associated with an object typically within a class.Methods are called on instances of a class or on the class itself (for class methods).They operate on the data contained in the object they belong to.\n",
        "Example of function and method:\n",
        "Function example\n",
        "\n",
        "def add(x, y):\n",
        "\n",
        "  return x + y\n",
        "result = add(2, 3)\n",
        "print(result) #Output:5\n",
        "\n",
        "Method example\n",
        "\n",
        "class Calculator:\n",
        "\n",
        "def add(self, x, y):\n",
        "\n",
        "return x + y\n",
        "calc = Calculator()\n",
        "\n",
        "result = calc.add(3, 3)\n",
        "\n",
        "print(result) #Output:6\n",
        "\n",
        "#2. Explain the concept of function arguments and parameters in Python?\n",
        "#Ans. In Python,function arguments and parameters are fundamental concepts when working with functions.\n",
        "Parameters: A parameter is a variable listed inside the parentheses in the function definition.Parameters act as placeholders for the values (arguments) that will be passed to the function when it is called.\n",
        "Arguments:\n",
        "An argument is the actual value or reference passed to the function when it is called. The argument is assigned to the corresponding parameter in the function. Example:\n",
        "def greet(name): # 'name' is a parameter\n",
        "\n",
        "print(f\"Hello, {name}!\")\n",
        "greet(\"Kartik\") # \"Kartik\" is the argument\n",
        "\n",
        "Here:\n",
        "\n",
        "name is the parameter (defined in the function).\n",
        "\n",
        "\"Kartik\" is the argument (passed when the function is called).\n",
        "\n",
        "Types of Function Arguments in Python\n",
        "\n",
        "Python allows different types of arguments when calling a function:\n",
        "\n",
        "Positional Arguments\n",
        "\n",
        "Keyword Arguments\n",
        "\n",
        "Default Arguments\n",
        "\n",
        "Variable-Length Arguments (*args and **kwargs)\n",
        "\n",
        "#3. What are the different ways to define and call a function in Python?\n",
        "#Ans. In Python, functions can be defined and called in various ways to handle a range of use cases. Here's a breakdown:\n",
        "In Python, functions can be defined and called in various ways to handle a range of use cases.\n",
        "\n",
        "Defining Functions in Python\n",
        "\n",
        "Regular Functions.\n",
        "\n",
        "Functions with Default Parameters.\n",
        "\n",
        "Variable-Length Functions (*args and **kwargs).\n",
        "\n",
        "Lambda Functions (Anonymous Functions).\n",
        "\n",
        "1.Regular Function Definition\n",
        "\n",
        "A function is defined using the def keyword.\n",
        "\n",
        "Example:\n",
        "\n",
        "def add(a, b):\n",
        "\n",
        "return a + b //Calling the function\n",
        "\n",
        "result = add(4, 3)\n",
        "\n",
        "print(result) # Output: 7\n",
        "\n",
        "Functions with default parameters can assign default values to parameters, making them optional during the function call.\n",
        "\n",
        "Example:\n",
        "\n",
        "def greet(name, age=18):\n",
        "\n",
        "print(f\"Hello {name}, you are {age} years old.\")\n",
        "greet(\"Kartik\") # Uses default age: 18\n",
        "\n",
        "greet(\"Kartik\", 25) # Overrides default: 25\n",
        "\n",
        "Variable-Length Functions\n",
        "\n",
        "Python allows functions to accept variable numbers of arguments:\n",
        "\n",
        "a. *args (Non-Keyword Arguments)\n",
        "\n",
        "*args allows you to pass a variable number of positional arguments.\n",
        "\n",
        "Example:\n",
        "\n",
        "def add_all(*args):\n",
        "\n",
        "return sum(args) print(add_all(1, 2, 3, 4)) # Output: 10\n",
        "\n",
        "**kwargs (Keyword Arguments)\n",
        "\n",
        "**kwargs allows you to pass a variable number of keyword arguments.\n",
        "\n",
        "Example:\n",
        "\n",
        "def show_details(**kwargs):\n",
        "\n",
        "for key, value in kwargs.items():\n",
        "\n",
        "print(f\"{key}: {value}\")\n",
        "show_details(name=\"Kartik\", age=18, city=\"Mumbai\")\n",
        "\n",
        "4.Lambda Functions (Anonymous Functions)\n",
        "\n",
        "A lambda function is a single-line, anonymous function defined using the lambda\n",
        "\n",
        "keyword.\n",
        "\n",
        "Syntax: lambda arguments: expression\n",
        "\n",
        "Example:\n",
        "\n",
        "square = lambda x: x * x\n",
        "\n",
        "print(square(5)) # Output: 25\n",
        "\n",
        "#4. What is the purpose of the return statement in a Python function?\n",
        "#Ans. The return statement in python is used to exit a function and send a value back to the caller.It allows the function to produce an output that can be used or stored.When return is executed,the function stops executing and the specified value is returned.If no value is provided, the function returns 'None' by default.\n",
        "Example:\n",
        "def add(x, y):\n",
        "\n",
        "  return x + y\n",
        "result = add(2, 7)\n",
        "print(result) #Output:9\n",
        "\n",
        "#5. What are iterators in Python and how do they differ from iterables?\n",
        "#Ans. In Python,an iterable is any object that can be iterated over, such as lists, tuples or strings.It implements the iter()method, which returns an iterator An iterator is an object that keeps track of the current position during iteration and provides the next item when next() is called, implementing the next() method.Main differences are (Iterable) can be looped over (e.g., list, tuple), but doesn't maintain iteration state.(Iterator) keeps track of the current state of iteration and provides the next item when requested.\n",
        "Example:\n",
        "numbers = [1, 2, 3]\n",
        "iterator = iter(numbers)\n",
        "\n",
        "print(next(iterator)) #Output:1\n",
        "print(next(iterator)) #Output:2\n",
        "print(next(iterator)) #Output:3\n",
        "\n",
        "#6. Explain the concept of generators in Python and how they are defined.\n",
        "#Ans. In Python,generators are a type of iterable that allow you to iterate over a sequence of values but they generate the values one at a time as needed,rather than storing the entire sequence in memory.This makes generators memory-efficient,especially when dealing with large datasets.A generator is defined using a function that contains one or more yield statements.When a function contains yield,it becomes a generator function and each call to yield produces a value.The function \"pauses\" at the yield statement saving its state and resumes from there when next() is called again.\n",
        "Example:\n",
        "def my_generator():\n",
        "\n",
        "yield 1\n",
        "\n",
        "yield 2\n",
        "\n",
        "yield 3\n",
        "gen = my_generator() # Creates a generator object\n",
        "\n",
        "print(next(gen)) # Output:1\n",
        "\n",
        "print(next(gen)) # Output:2\n",
        "\n",
        "print(next(gen)) # Output:3\\\n",
        "\n",
        "print(next(gen)) # Raises StopIteration\n",
        "\n",
        "#7. What are the advantages of using generators over regular functions?\n",
        "#Ans. Generators provide several advantages over regular functions in Python,particularly in terms of memory efficiency,performance and handling large or infinite datasets.\n",
        "Advantages:\n",
        "Memory Efficiency:Generators yield values one at a time and do not store the entire sequence in memory,making them ideal for large datasets.\n",
        "Lazy Evaluation:Generators calculate values only when needed, improving performance by delaying computation until required.\n",
        "Handling Infinite Sequences:Generators can represent infinite sequences because they generate values on-the-fly without storing them all in memory.\n",
        "Example:\n",
        "def generate_numbers(n):\n",
        "for i in range(n):\n",
        "yield i # Yield one number at a time\n",
        "\n",
        "gen = generate_numbers(1000000)\n",
        "\n",
        "print(next(gen)) #Output:0\n",
        "print(next(gen)) #Output:1\n",
        "In this example, the generator (generate_numbers0 produces one number at a time, avoiding the memory overhead of storing all 1,000,000 numbers in a list.This makes generators more efficient, especially for large or infinite data sets.\n",
        "\n",
        "#8. What is a lambda function in Python and when is it typically used?\n",
        "#Ans. A lambda function in Python is a small,anonymous function defined using the lambda keyword.It can take any number of arguments but only has a single expression which is evaluated and returned.Lambda functions are typically used for short simple tasks where defining a full function using def would be overkill.\n",
        "Example:\n",
        "\n",
        "Regular function\n",
        "def add(x, y):\n",
        "return x + y\n",
        "\n",
        "Lambda function equivalent\n",
        "\n",
        "add_lambda = lambda x, y: x + y\n",
        "\n",
        "print(add_lambda(3, 6)) # Output:9\n",
        "\n",
        "Typical Use Cases of Lambda Functions\n",
        "\n",
        "Lambda functions are typically used in situations where you need a short, throwaway function that is used temporarily and does not require the overhead of defining a full function. Some common scenarios include:\n",
        "\n",
        "In conjunction with higher-order functions:\n",
        "\n",
        "map():Applies a function to all items in an iterable.\n",
        "filter():Filters items in an iterable based on a condition.\n",
        "sorted():Sorts an iterable based on a custom sorting key.\n",
        "\n",
        "When a function is needed for a short period: When you need a quick function for a short period and don’t want to define a full function, a lambda function is ideal.\n",
        "\n",
        "#9. Explain the purpose and usage of the map() function in Python.\n",
        "#Ans. The map() function in Python is a built-in function that allows you to apply a given function to all items in an iterable (such as a list, tuple, etc.) and returns a map object (an iterator) that produces the results.\n",
        "Usage:It simplifies operations that need to be applied to each element of a sequence making code more concise and readable.You can use map() with both regular functions and lambda functions and it can handle one or more iterables simultaneously.\n",
        "Example:\n",
        "Using map() with a Simple Function\n",
        "Suppose you want to square each number in a list. You can use map() to apply a function to each element in the list.\n",
        "\n",
        "def square(x):\n",
        "\n",
        "return x ** 2 numbers = [1, 2, 3, 4]\n",
        "\n",
        "squared_numbers = map(square, numbers)\n",
        "\n",
        "Convert to a list to see the result\n",
        "\n",
        "print(list(squared_numbers)) # Output: [1, 4, 9, 16]\n",
        "\n",
        "Example 2:\\ Using map() with a Lambda Function\n",
        "\n",
        "numbers = [1, 2, 3, 4]\n",
        "\n",
        "squared_numbers = map(lambda x: x ** 2, numbers)\n",
        "\n",
        "Convert to a list to see the result\n",
        "\n",
        "print(list(squared_numbers)) # Output: [1, 4, 9, 16]\n",
        "\n",
        "#10. What is the difference between map(), reduce(), and filter() functions in Python?\n",
        "#Ans. The differences are:\n",
        "map():\n",
        "Purpose:Applies a given function to each item in an iterable and returns an iterator of the results. Usage:Used when you want to transform each element in an iterable based on a function.\n",
        "Example:\n",
        "numbers = [1, 2, 3, 4]\n",
        "squared_numbers = map(lambda x: x ** 2, numbers)\n",
        "print(list(squared_numbers)) #Output:[1, 4, 9, 16]\\\n",
        "\n",
        "reduce():\n",
        "Purpose:Applies a binary function cumulatively to the items of an iterable reducing them to a single accumulated result.\n",
        "Usage:Used when you want to accumulate or combine elements of an iterable into a single value(e.g., summing or multiplying all elements).\n",
        "Example:\n",
        "numbers = [2, 2, 3, 4]\n",
        "result = reduce(lambda x, y: x * y, numbers)\n",
        "print(result) #Output:48\\\n",
        "\n",
        "filter():\n",
        "Purpose: Filters elements of an iterable based on a condition, returning only the elements where the function returns True.\n",
        "Usage: Used when you want to filter out elements that do not meet a condition.\n",
        "Example:\n",
        "numbers = [1, 2, 3, 4, 5, 6, 7, 8]\n",
        "even_numbers = filter(lambda x: x % 2 == 0, numbers)\n",
        "print(list(even_numbers)) #Output:[2, 4, 6, 8]\n",
        "\n",
        "#11.Using pen & Paper write the internal mechanism for sum operation using reduce function on this given list:[47,11,42,13];\n",
        "#Ans.https://drive.google.com/file/d/1PcEmyvutsLOlQtkm2ym4EbmDo3Jig9LA/view?usp=sharing"
      ],
      "metadata": {
        "id": "5Lq0woDLNFZx"
      }
    },
    {
      "cell_type": "code",
      "source": [],
      "metadata": {
        "id": "UhC5WTPQNHwu"
      },
      "execution_count": null,
      "outputs": []
    },
    {
      "cell_type": "code",
      "source": [
        "#Practical Questions\n",
        "\n",
        "#1. Write a Python function that takes a list of numbers as input and returns the sum of all even numbers in the list.\n",
        "from functools import reduce\n",
        "o = [1, 2, 3, 4, 11, 11, 22]\n",
        "\n",
        "def b(o):\n",
        "    ab = 0\n",
        "    for i in o:\n",
        "        if i % 2 == 0:  # Check if the number is even\n",
        "            ab += i     # Add it to the sum\n",
        "    return ab\n",
        "\n",
        "print(b(o))\n"
      ],
      "metadata": {
        "colab": {
          "base_uri": "https://localhost:8080/"
        },
        "id": "09fe6KD1NJIo",
        "outputId": "b2c857cc-3ebf-41d5-8ab2-e28d4b262f00"
      },
      "execution_count": 2,
      "outputs": [
        {
          "output_type": "stream",
          "name": "stdout",
          "text": [
            "28\n"
          ]
        }
      ]
    },
    {
      "cell_type": "code",
      "source": [
        "#2. Create a Python function that accepts a string and returns the reverse of that string.\n",
        "a = \"baba\"\n",
        "\n",
        "def c(a):\n",
        "    b = ''\n",
        "    # Iterate over the characters of the reversed string\n",
        "    for i in a[::-1]:\n",
        "        b += i\n",
        "    print(b)\n",
        "\n",
        "c(a)"
      ],
      "metadata": {
        "colab": {
          "base_uri": "https://localhost:8080/"
        },
        "id": "6tIPXw9aNbmX",
        "outputId": "b3d57de4-76f7-4a46-e057-bc2f124ce445"
      },
      "execution_count": 3,
      "outputs": [
        {
          "output_type": "stream",
          "name": "stdout",
          "text": [
            "abab\n"
          ]
        }
      ]
    },
    {
      "cell_type": "code",
      "source": [
        "#3. Implement a Python function that takes a list of integers and returns a new list containing the squares of each number.\n",
        "a = [1, 2, 3, 4, 5]\n",
        "b = lambda c: c**2\n",
        "result = map(b, a)\n",
        "print(list(result))"
      ],
      "metadata": {
        "colab": {
          "base_uri": "https://localhost:8080/"
        },
        "id": "Q3QHPwwWNuCH",
        "outputId": "d2abfc53-3b13-42ab-c567-ff0eba49b0dd"
      },
      "execution_count": 4,
      "outputs": [
        {
          "output_type": "stream",
          "name": "stdout",
          "text": [
            "[1, 4, 9, 16, 25]\n"
          ]
        }
      ]
    },
    {
      "cell_type": "code",
      "source": [
        "#4. Write a Python function that checks if a given number is prime or not from 1 to 200.\n",
        "a = range(1, 201)\n",
        "b = filter(lambda c: all(c % i != 0 for i in range(2, int(c**0.5) + 1)), a)\n",
        "print(list(b))\n"
      ],
      "metadata": {
        "colab": {
          "base_uri": "https://localhost:8080/"
        },
        "id": "sKWYhia-N34k",
        "outputId": "5dfeffa8-620f-46c6-fce0-bd2a4e579c2b"
      },
      "execution_count": 5,
      "outputs": [
        {
          "output_type": "stream",
          "name": "stdout",
          "text": [
            "[1, 2, 3, 5, 7, 11, 13, 17, 19, 23, 29, 31, 37, 41, 43, 47, 53, 59, 61, 67, 71, 73, 79, 83, 89, 97, 101, 103, 107, 109, 113, 127, 131, 137, 139, 149, 151, 157, 163, 167, 173, 179, 181, 191, 193, 197, 199]\n"
          ]
        }
      ]
    },
    {
      "cell_type": "code",
      "source": [
        "#5. Create an iterator class in Python that generates the Fibonacci sequence up to a specified number of terms.\n",
        "class FibonacciIterator:\n",
        "    def __init__(self, n):\n",
        "        self.n = n\n",
        "        self.a, self.b = 0, 1\n",
        "\n",
        "    def __iter__(self):\n",
        "        return self\n",
        "\n",
        "    def __next__(self):\n",
        "        if self.n <= 0:\n",
        "            raise StopIteration\n",
        "        current = self.a\n",
        "        self.a, self.b = self.b, self.a + self.b\n",
        "        self.n -= 1\n",
        "        return current\n",
        "\n",
        "fibonacci_sequence = FibonacciIterator(10)\n",
        "for num in fibonacci_sequence:\n",
        "    print(num)"
      ],
      "metadata": {
        "colab": {
          "base_uri": "https://localhost:8080/"
        },
        "id": "LTdT2LnpOBSk",
        "outputId": "fe165001-9415-4738-a330-9e03cbba1f1f"
      },
      "execution_count": 6,
      "outputs": [
        {
          "output_type": "stream",
          "name": "stdout",
          "text": [
            "0\n",
            "1\n",
            "1\n",
            "2\n",
            "3\n",
            "5\n",
            "8\n",
            "13\n",
            "21\n",
            "34\n"
          ]
        }
      ]
    },
    {
      "cell_type": "code",
      "source": [
        "#6. Write a generator function in Python that yields the powers of 2 up to a given exponent.\n",
        "def powers_of_2_yield(n):\n",
        "    for i in range(n + 1):\n",
        "        yield 2 ** i\n",
        "\n",
        "for power in powers_of_2_yield(5):\n",
        "    print(power)\n"
      ],
      "metadata": {
        "colab": {
          "base_uri": "https://localhost:8080/"
        },
        "id": "Gn6O0K8jOMEu",
        "outputId": "e2e5fa10-8bed-4177-edea-78245a615ea5"
      },
      "execution_count": 7,
      "outputs": [
        {
          "output_type": "stream",
          "name": "stdout",
          "text": [
            "1\n",
            "2\n",
            "4\n",
            "8\n",
            "16\n",
            "32\n"
          ]
        }
      ]
    },
    {
      "cell_type": "code",
      "source": [
        "#7. Implement a generator function that reads a file line by line and yields each line as a string.\n",
        "file_content = [\n",
        "    \"Hi, this is the first line.\",\n",
        "    \"This is the second line.\",\n",
        "    \"And this is the third line.\",\n",
        "    \"This is the fourth line.\",\n",
        "]\n",
        "\n",
        "\n",
        "def read_file_line_by_line(content):\n",
        "    for line in content:\n",
        "        yield line.strip()\n",
        "\n",
        "\n",
        "for line in read_file_line_by_line(file_content):\n",
        "    print(line)\n"
      ],
      "metadata": {
        "colab": {
          "base_uri": "https://localhost:8080/"
        },
        "id": "r8Qy8rFNOWmb",
        "outputId": "cfef7474-09cd-4701-c486-a38e6f05e60e"
      },
      "execution_count": 8,
      "outputs": [
        {
          "output_type": "stream",
          "name": "stdout",
          "text": [
            "Hi, this is the first line.\n",
            "This is the second line.\n",
            "And this is the third line.\n",
            "This is the fourth line.\n"
          ]
        }
      ]
    },
    {
      "cell_type": "code",
      "source": [
        "#8. Use a lambda function in Python to sort a list of tuples based on the second element of each tuple.\n",
        "tuples_list = [(1, 3), (2, 1), (3, 2), (5, 4)]\n",
        "sorted_list = sorted(tuples_list, key=lambda x: x[1])\n",
        "print(sorted_list)"
      ],
      "metadata": {
        "colab": {
          "base_uri": "https://localhost:8080/"
        },
        "id": "wqUbMUNVOeiO",
        "outputId": "a2d9d0a7-0294-40ce-c8f4-404580a239ec"
      },
      "execution_count": 9,
      "outputs": [
        {
          "output_type": "stream",
          "name": "stdout",
          "text": [
            "[(2, 1), (3, 2), (1, 3), (5, 4)]\n"
          ]
        }
      ]
    },
    {
      "cell_type": "code",
      "source": [
        "#9. Write a Python program that uses `map()` to convert a list of temperatures from Celsius to Fahrenheit.\n",
        "celsius_temperatures = [10,12,22,25]\n",
        "def celsius_to_fahrenheit(celsius):\n",
        "    return (celsius * 9/5) + 32\n",
        "fahrenheit_temperatures = list(map(celsius_to_fahrenheit, celsius_temperatures))\n",
        "\n",
        "print(fahrenheit_temperatures)"
      ],
      "metadata": {
        "colab": {
          "base_uri": "https://localhost:8080/"
        },
        "id": "UkNNYEYYOo8v",
        "outputId": "2a949d47-cb6b-4493-e7e0-37897e843c9d"
      },
      "execution_count": 10,
      "outputs": [
        {
          "output_type": "stream",
          "name": "stdout",
          "text": [
            "[50.0, 53.6, 71.6, 77.0]\n"
          ]
        }
      ]
    },
    {
      "cell_type": "code",
      "source": [
        "#10. Create a Python program that uses `filter()` to remove all the vowels from a given string.\n",
        "def is_not_vowel(char):\n",
        "    return char.lower() not in 'aeiou'\n",
        "input_string = \"Chinmay\"\n",
        "filtered_string = ''.join(filter(is_not_vowel, input_string))\n",
        "\n",
        "print(filtered_string)"
      ],
      "metadata": {
        "colab": {
          "base_uri": "https://localhost:8080/"
        },
        "id": "BKJ-UPhuO0hO",
        "outputId": "96478dac-b1db-4659-f29a-4c44de1e7edd"
      },
      "execution_count": 11,
      "outputs": [
        {
          "output_type": "stream",
          "name": "stdout",
          "text": [
            "Chnmy\n"
          ]
        }
      ]
    },
    {
      "cell_type": "code",
      "source": [
        "#11. Imagine an accounting routine used in a book shop. It works on a list with sublists, which look like this:\n",
        "#Write a Python program, which returns a list with 2-tuples. Each tuple consists of the order number and the\n",
        "#product of the price per item and the quantity. The product should be increased by 10,- € if the value of the\n",
        "#order is smaller than 100,00 €.\n",
        "#Write a Python program using lambda and map.\n",
        "orders = [\n",
        "    [101, 4,40.00],\n",
        "    [202, 5, 56.80],\n",
        "    [302, 3, 32.95],\n",
        "    [402, 3, 24.99],\n",
        "]\n",
        "def calculate_order(order):\n",
        "    order_number, price_per_item, quantity = order\n",
        "    total_price = price_per_item * quantity\n",
        "    if total_price < 100:\n",
        "        total_price += 10\n",
        "    return (order_number, total_price)\n",
        "result = list(map(lambda order: calculate_order(order), orders))\n",
        "\n",
        "print(result)\n"
      ],
      "metadata": {
        "colab": {
          "base_uri": "https://localhost:8080/"
        },
        "id": "aiwahL8hO6yM",
        "outputId": "a7b233aa-3030-49f3-9839-09be91013f13"
      },
      "execution_count": 12,
      "outputs": [
        {
          "output_type": "stream",
          "name": "stdout",
          "text": [
            "[(101, 160.0), (202, 284.0), (302, 108.85000000000001), (402, 84.97)]\n"
          ]
        }
      ]
    },
    {
      "cell_type": "code",
      "source": [],
      "metadata": {
        "id": "RP0ZuuxAPDt5"
      },
      "execution_count": null,
      "outputs": []
    }
  ]
}